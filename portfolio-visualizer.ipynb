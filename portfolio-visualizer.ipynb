{
 "cells": [
  {
   "cell_type": "code",
   "execution_count": null,
   "metadata": {
    "collapsed": true
   },
   "outputs": [],
   "source": [
    "import yfinance as yf\n",
    "import openpyxl as xl\n",
    "import pandas as pd\n",
    "import numpy as np\n",
    "import matplotlib.pyplot as plt"
   ]
  },
  {
   "cell_type": "code",
   "execution_count": null,
   "outputs": [],
   "source": [
    "CSV_FILE = './csv/your_file.csv'\n",
    "TITLE_SECTOR_DISTRIBUTIONS = 'Account Distributions (December 2022)'\n",
    "TITLE_ASSET_CLASSES = 'Asset Class Distribution (December 2022)'"
   ],
   "metadata": {
    "collapsed": false
   }
  },
  {
   "cell_type": "code",
   "execution_count": null,
   "outputs": [],
   "source": [
    "df = pd.read_csv(CSV_FILE, header=2)"
   ],
   "metadata": {
    "collapsed": false
   }
  },
  {
   "cell_type": "code",
   "execution_count": null,
   "outputs": [],
   "source": [
    "sector_weighting_conversions = {\n",
    "    'realestate': 'Real Estate',\n",
    "    'utilities': 'Utilities',\n",
    "    'consumer_cyclical': 'Consumer Cyclical',\n",
    "    'consumer_defensive': 'Consumer Defensive',\n",
    "    'energy': 'Energy',\n",
    "    'financial_services': 'Financial Services',\n",
    "    'healthcare': 'Healthcare',\n",
    "    'industrials': 'Industrials',\n",
    "    'technology': 'Technology',\n",
    "    'basic_materials': 'Basic Materials',\n",
    "    'communication_services': 'Communication Services'\n",
    "                                }\n",
    "\n",
    "ticker_list = []\n",
    "sector_weightings_in_account = {}\n",
    "asset_classes_in_account = {}\n",
    "\n",
    "\n",
    "def add_to_asset_classes(asset_class, amount):\n",
    "    if type(amount) == str:\n",
    "        amount = amount.strip('%')\n",
    "    if asset_class not in asset_classes_in_account.keys():\n",
    "        asset_classes_in_account[asset_class] = float(amount)\n",
    "    elif asset_class in asset_classes_in_account.keys():\n",
    "        asset_classes_in_account[asset_class] += float(amount)\n",
    "\n",
    "\n",
    "def add_to_sector_weightings(sector, amount):\n",
    "    if type(amount) == str:\n",
    "        amount = amount.strip('%')\n",
    "    if sector not in sector_weightings_in_account.keys():\n",
    "        sector_weightings_in_account[sector] = float(amount)\n",
    "    elif sector in sector_weightings_in_account.keys():\n",
    "        sector_weightings_in_account[sector] += float(amount)\n",
    "\n",
    "\n",
    "def add_to_sector_weightings_fund(weights_dict, total_amount_of_acct):\n",
    "    if type(total_amount_of_acct) == str:\n",
    "        total_amount_of_acct = total_amount_of_acct.strip('%')\n",
    "    new_weightings_dict = {}\n",
    "    check_total = float(0)\n",
    "    for key in weights_dict.keys():\n",
    "        holding_value = weights_dict[key]\n",
    "        new_weightings_dict[key] = float(total_amount_of_acct) * holding_value\n",
    "    for sector in new_weightings_dict.keys():\n",
    "        check_total += new_weightings_dict[sector]\n",
    "        if sector not in sector_weightings_in_account.keys():\n",
    "            sector_weightings_in_account[sector] = new_weightings_dict[sector]\n",
    "        elif sector in sector_weightings_in_account.keys():\n",
    "            sector_weightings_in_account[sector] += new_weightings_dict[sector]\n",
    "    print(f'Checking totals: Passed total was {total_amount_of_acct}, parsed was {check_total}.')\n",
    "    remainder = float(total_amount_of_acct) - check_total\n",
    "    print(f'Passing {remainder} to \"Fund Remainder.\"')\n",
    "    add_to_sector_weightings('Fund Remainder', remainder)\n",
    "\n",
    "\n",
    "for row in df.index:\n",
    "    ticker = df.at[row, 'Symbol']\n",
    "    ticker_list.append(ticker)\n",
    "    try:\n",
    "        security_type = df.at[row, 'Security Type']\n",
    "        if security_type == 'Equity':\n",
    "            ticker_lookup = yf.Ticker(ticker)\n",
    "            quote_type = ticker_lookup.info['quoteType']\n",
    "            if quote_type == 'EQUITY':\n",
    "                sector = ticker_lookup.info['sector']\n",
    "                df.at[row, 'Sector'] = sector\n",
    "                add_to_sector_weightings(sector, df.at[row, '% Of Account'])\n",
    "                add_to_asset_classes(security_type, df.at[row, '% Of Account'])\n",
    "                print(f'Added equity {ticker}.')\n",
    "            elif quote_type == 'ETF':\n",
    "                df.at[row, 'Security Type'] = 'Preferred Stock'\n",
    "                df.at[row, 'Sector'] = 'Preferred Stock'\n",
    "                add_to_sector_weightings('Fixed Income', df.at[row, '% Of Account'])\n",
    "                add_to_asset_classes('Fixed Income', df.at[row, '% Of Account'])\n",
    "                print(f'Adding preferred stock {ticker}.')\n",
    "        elif security_type == 'ETFs & Closed End Funds' or security_type == 'Mutual Fund':\n",
    "            ticker_lookup = yf.Ticker(ticker)\n",
    "            weightings_dict = {}\n",
    "            for item in ticker_lookup.info['sectorWeightings']:\n",
    "                 for key, value in item.items():\n",
    "                    new_key = sector_weighting_conversions[key]\n",
    "                    weightings_dict[new_key] = value\n",
    "            df.at[row, 'Sector'] = weightings_dict\n",
    "            total_of_acct = df.at[row, '% Of Account']\n",
    "            add_to_sector_weightings_fund(weightings_dict, total_of_acct)\n",
    "            add_to_asset_classes(security_type, df.at[row, '% Of Account'])\n",
    "            print(f'Adding ETF/Mutual Fund {ticker}.')\n",
    "        elif security_type == 'Option':\n",
    "            add_to_sector_weightings('Options', df.at[row, '% Of Account'])\n",
    "            add_to_asset_classes(security_type, df.at[row, '% Of Account'])\n",
    "            print(f'Adding option {ticker}')\n",
    "        elif security_type == 'Fixed Income':\n",
    "            add_to_sector_weightings('Fixed Income', df.at[row, '% Of Account'])\n",
    "            add_to_asset_classes(security_type, df.at[row, '% Of Account'])\n",
    "            print(f'Adding fixed income {ticker}')\n",
    "        elif security_type == 'Cash and Money Market':\n",
    "            cash_amount = df.at[row, '% Of Account']\n",
    "            cash_amount = cash_amount.strip('%')\n",
    "            sector_weightings_in_account['Cash'] = float(cash_amount)\n",
    "            add_to_asset_classes(security_type, df.at[row, '% Of Account'])\n",
    "        else:\n",
    "            print(f'Skipping {ticker}')\n",
    "    except Exception as e:\n",
    "            print(f'Skipping {ticker} - Error: {e}')\n",
    "\n",
    "print(sector_weightings_in_account)"
   ],
   "metadata": {
    "collapsed": false
   }
  },
  {
   "cell_type": "code",
   "execution_count": null,
   "outputs": [],
   "source": [
    "total = float(0)\n",
    "for key in sector_weightings_in_account.keys():\n",
    "    total += sector_weightings_in_account[key]\n",
    "print(total)"
   ],
   "metadata": {
    "collapsed": false
   }
  },
  {
   "cell_type": "code",
   "execution_count": null,
   "outputs": [],
   "source": [
    "sector_weightings = pd.DataFrame(sector_weightings_in_account, columns=sector_weightings_in_account.keys(), index=['Account %'])\n",
    "sector_weightings = sector_weightings.transpose()\n",
    "sector_weightings = sector_weightings.sort_index()\n",
    "sector_weightings"
   ],
   "metadata": {
    "collapsed": false
   }
  },
  {
   "cell_type": "code",
   "execution_count": null,
   "outputs": [],
   "source": [
    "plt.pie(x=sector_weightings['Account %'], labels=sector_weightings.index, autopct='%.2f', radius=1.8, shadow=True)\n",
    "plt.title(TITLE_SECTOR_DISTRIBUTIONS, pad=100)\n",
    "plt.show()"
   ],
   "metadata": {
    "collapsed": false
   }
  },
  {
   "cell_type": "code",
   "execution_count": null,
   "outputs": [],
   "source": [
    "asset_classes = pd.DataFrame(asset_classes_in_account, columns=asset_classes_in_account.keys(), index=['Account %'])\n",
    "asset_classes = asset_classes.transpose()\n",
    "asset_classes = asset_classes.sort_index()\n",
    "asset_classes"
   ],
   "metadata": {
    "collapsed": false
   }
  },
  {
   "cell_type": "code",
   "execution_count": null,
   "outputs": [],
   "source": [
    "plt.pie(x=asset_classes['Account %'], labels=asset_classes.index, autopct='%.2f', radius=1.8, shadow=True)\n",
    "plt.title(TITLE_ASSET_CLASSES, pad=100)\n",
    "plt.show()"
   ],
   "metadata": {
    "collapsed": false
   }
  },
  {
   "cell_type": "code",
   "execution_count": null,
   "outputs": [],
   "source": [],
   "metadata": {
    "collapsed": false
   }
  }
 ],
 "metadata": {
  "kernelspec": {
   "display_name": "Python 3",
   "language": "python",
   "name": "python3"
  },
  "language_info": {
   "codemirror_mode": {
    "name": "ipython",
    "version": 2
   },
   "file_extension": ".py",
   "mimetype": "text/x-python",
   "name": "python",
   "nbconvert_exporter": "python",
   "pygments_lexer": "ipython2",
   "version": "2.7.6"
  }
 },
 "nbformat": 4,
 "nbformat_minor": 0
}
